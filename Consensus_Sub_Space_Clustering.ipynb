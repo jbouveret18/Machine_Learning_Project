{
 "cells": [
  {
   "cell_type": "markdown",
   "id": "de1db54c87ef1cd8",
   "metadata": {
    "collapsed": false
   },
   "source": [
    "Initial Imports:"
   ]
  },
  {
   "cell_type": "code",
   "execution_count": 209,
   "id": "4ddc06e7fedf8ce9",
   "metadata": {
    "collapsed": false,
    "ExecuteTime": {
     "end_time": "2024-01-02T18:20:17.884191100Z",
     "start_time": "2024-01-02T18:20:17.771278900Z"
    }
   },
   "outputs": [],
   "source": [
    "import torchvision.datasets as datasets\n",
    "import torchvision.transforms as transforms\n",
    "from torchvision.transforms import Normalize\n",
    "from torchvision.datasets import MNIST\n",
    "from torch.utils.data import DataLoader, TensorDataset\n",
    "import pandas as pd\n",
    "from sklearn.metrics.pairwise import cosine_similarity\n",
    "import torch\n",
    "import torch.nn as nn\n",
    "import torch.nn.functional as F\n",
    "import numpy as np\n",
    "from sklearn.cluster import SpectralClustering\n",
    "from sklearn.metrics import silhouette_score\n",
    "from sklearn.decomposition import NMF\n",
    "from sklearn.preprocessing import StandardScaler\n",
    "from sklearn.decomposition import PCA\n",
    "from sklearn.decomposition import IncrementalPCA"
   ]
  },
  {
   "cell_type": "markdown",
   "id": "e86669f7f9aa2933",
   "metadata": {
    "collapsed": false
   },
   "source": [
    "1.***[Loading the data]***:\n",
    "For MNIST:\n",
    "In Python using TensorFlow and Keras:"
   ]
  },
  {
   "cell_type": "code",
   "execution_count": 58,
   "id": "a603f956639a2628",
   "metadata": {
    "collapsed": false,
    "ExecuteTime": {
     "end_time": "2024-01-02T15:05:47.727697900Z",
     "start_time": "2024-01-02T15:05:47.122194900Z"
    }
   },
   "outputs": [],
   "source": [
    "# Transformations to apply to the dataset\n",
    "transform = transforms.Compose([\n",
    "    transforms.ToTensor(),  # Convert images to PyTorch tensors\n",
    "    transforms.Normalize((0.5,), (0.5,))  # Normalize the data\n",
    "])\n",
    "\n",
    "# Load the MNIST dataset\n",
    "mnist_trainset = datasets.MNIST(root='./data', train=True, download=True, transform=transforms.ToTensor())\n",
    "mnist_testset = datasets.MNIST(root='./data', train=False, download=True, transform=transforms.ToTensor())"
   ]
  },
  {
   "cell_type": "markdown",
   "id": "77672e2c3020551d",
   "metadata": {
    "collapsed": false
   },
   "source": [
    "For CIFAR-10:\n"
   ]
  },
  {
   "cell_type": "code",
   "execution_count": 59,
   "id": "initial_id",
   "metadata": {
    "collapsed": true,
    "ExecuteTime": {
     "end_time": "2024-01-02T15:05:50.532060600Z",
     "start_time": "2024-01-02T15:05:47.316312600Z"
    }
   },
   "outputs": [
    {
     "name": "stdout",
     "output_type": "stream",
     "text": [
      "Files already downloaded and verified\n",
      "Files already downloaded and verified\n"
     ]
    }
   ],
   "source": [
    "# Transformations for CIFAR-10\n",
    "transform_cifar = transforms.Compose([\n",
    "    transforms.ToTensor(),  # Convert images to PyTorch tensors\n",
    "    transforms.Normalize((0.5, 0.5, 0.5), (0.5, 0.5, 0.5))  # Normalize the data\n",
    "])\n",
    "\n",
    "# Load the CIFAR-10 dataset\n",
    "cifar_trainset = datasets.CIFAR10(root='./data', train=True, download=True, transform=transform_cifar)\n",
    "cifar_testset = datasets.CIFAR10(root='./data', train=False, download=True, transform=transform_cifar)\n"
   ]
  },
  {
   "cell_type": "markdown",
   "id": "ba5ce8249d1c488c",
   "metadata": {
    "collapsed": false
   },
   "source": [
    "Paper results:"
   ]
  },
  {
   "cell_type": "code",
   "execution_count": 60,
   "id": "bea59dff45c49e93",
   "metadata": {
    "collapsed": false,
    "ExecuteTime": {
     "end_time": "2024-01-02T15:05:50.608466300Z",
     "start_time": "2024-01-02T15:05:50.535292500Z"
    }
   },
   "outputs": [
    {
     "name": "stdout",
     "output_type": "stream",
     "text": [
      "Results obtained in the paper:\n"
     ]
    },
    {
     "data": {
      "text/plain": "           Method   MNIST ACC   MNIST NMI   USPS ACC   USPS NMI  CIFAR-10 ACC  \\\n0         K-means        0.58        0.49       0.48       0.42          0.14   \n1    Deep Cluster        0.86        0.83       0.67       0.69            NA   \n2    Deep K-means        0.84        0.80       0.76       0.78            NA   \n3  CSC No Flatten        0.85        0.79       0.83       0.78          0.12   \n4   CSC No Filter        0.83        0.76       0.84       0.79          0.14   \n5   CSC No Voting        0.82        0.77       0.82       0.76          0.14   \n6             CSC        0.86        0.81       0.83       0.79          0.15   \n\n   CIFAR-10 NMI  \n0          0.12  \n1            NA  \n2            NA  \n3          0.08  \n4          0.10  \n5          0.10  \n6          0.11  ",
      "text/html": "<div>\n<style scoped>\n    .dataframe tbody tr th:only-of-type {\n        vertical-align: middle;\n    }\n\n    .dataframe tbody tr th {\n        vertical-align: top;\n    }\n\n    .dataframe thead th {\n        text-align: right;\n    }\n</style>\n<table border=\"1\" class=\"dataframe\">\n  <thead>\n    <tr style=\"text-align: right;\">\n      <th></th>\n      <th>Method</th>\n      <th>MNIST ACC</th>\n      <th>MNIST NMI</th>\n      <th>USPS ACC</th>\n      <th>USPS NMI</th>\n      <th>CIFAR-10 ACC</th>\n      <th>CIFAR-10 NMI</th>\n    </tr>\n  </thead>\n  <tbody>\n    <tr>\n      <th>0</th>\n      <td>K-means</td>\n      <td>0.58</td>\n      <td>0.49</td>\n      <td>0.48</td>\n      <td>0.42</td>\n      <td>0.14</td>\n      <td>0.12</td>\n    </tr>\n    <tr>\n      <th>1</th>\n      <td>Deep Cluster</td>\n      <td>0.86</td>\n      <td>0.83</td>\n      <td>0.67</td>\n      <td>0.69</td>\n      <td>NA</td>\n      <td>NA</td>\n    </tr>\n    <tr>\n      <th>2</th>\n      <td>Deep K-means</td>\n      <td>0.84</td>\n      <td>0.80</td>\n      <td>0.76</td>\n      <td>0.78</td>\n      <td>NA</td>\n      <td>NA</td>\n    </tr>\n    <tr>\n      <th>3</th>\n      <td>CSC No Flatten</td>\n      <td>0.85</td>\n      <td>0.79</td>\n      <td>0.83</td>\n      <td>0.78</td>\n      <td>0.12</td>\n      <td>0.08</td>\n    </tr>\n    <tr>\n      <th>4</th>\n      <td>CSC No Filter</td>\n      <td>0.83</td>\n      <td>0.76</td>\n      <td>0.84</td>\n      <td>0.79</td>\n      <td>0.14</td>\n      <td>0.10</td>\n    </tr>\n    <tr>\n      <th>5</th>\n      <td>CSC No Voting</td>\n      <td>0.82</td>\n      <td>0.77</td>\n      <td>0.82</td>\n      <td>0.76</td>\n      <td>0.14</td>\n      <td>0.10</td>\n    </tr>\n    <tr>\n      <th>6</th>\n      <td>CSC</td>\n      <td>0.86</td>\n      <td>0.81</td>\n      <td>0.83</td>\n      <td>0.79</td>\n      <td>0.15</td>\n      <td>0.11</td>\n    </tr>\n  </tbody>\n</table>\n</div>"
     },
     "execution_count": 60,
     "metadata": {},
     "output_type": "execute_result"
    }
   ],
   "source": [
    "file_path = 'paper_results.csv'\n",
    "\n",
    "# Read the CSV file into a Pandas DataFrame\n",
    "data = pd.read_csv(file_path)\n",
    "print(\"Results obtained in the paper:\")\n",
    "data"
   ]
  },
  {
   "cell_type": "markdown",
   "id": "521320c9",
   "metadata": {},
   "source": [
    "### A - 1) Normalization"
   ]
  },
  {
   "cell_type": "code",
   "execution_count": 61,
   "id": "716e1287",
   "metadata": {
    "ExecuteTime": {
     "end_time": "2024-01-02T15:05:50.624459500Z",
     "start_time": "2024-01-02T15:05:50.567379200Z"
    }
   },
   "outputs": [],
   "source": [
    "# Data normalization with min-max method\n",
    "def min_max_scale_dataset(dataset, batch_size=64):\n",
    "    \n",
    "    min_pixel_value = float('inf')\n",
    "    max_pixel_value = float('-inf')\n",
    "\n",
    "    for images, _ in DataLoader(dataset, batch_size=batch_size, shuffle=True):\n",
    "        min_pixel_value = min(min_pixel_value, images.min())\n",
    "        max_pixel_value = max(max_pixel_value, images.max())\n",
    "\n",
    "    \n",
    "    min_max_scaler = Normalize(min_pixel_value, max_pixel_value)\n",
    "    # Apply the min-max scaling to the dataset\n",
    "    transform = transforms.Compose([transforms.ToTensor(), min_max_scaler])\n",
    "    normalized_dataset = MNIST(root='./data', train=True, download=True, transform=transform)\n",
    "\n",
    "    normalized_loader = DataLoader(normalized_dataset, batch_size=batch_size, shuffle=True)\n",
    "\n",
    "    return normalized_loader"
   ]
  },
  {
   "cell_type": "code",
   "execution_count": 62,
   "id": "d294bff7",
   "metadata": {
    "ExecuteTime": {
     "end_time": "2024-01-02T15:05:50.687259300Z",
     "start_time": "2024-01-02T15:05:50.583822600Z"
    }
   },
   "outputs": [],
   "source": [
    "BATCH_SIZE = 64"
   ]
  },
  {
   "cell_type": "code",
   "execution_count": 63,
   "id": "d36cb56a",
   "metadata": {
    "ExecuteTime": {
     "end_time": "2024-01-02T15:06:05.953559500Z",
     "start_time": "2024-01-02T15:05:50.600255600Z"
    }
   },
   "outputs": [],
   "source": [
    "mnist_train_loader = min_max_scale_dataset(mnist_trainset)\n",
    "mnist_test_loader = min_max_scale_dataset(mnist_testset)"
   ]
  },
  {
   "cell_type": "markdown",
   "id": "d72f7da262358c24",
   "metadata": {
    "collapsed": false
   },
   "source": [
    "### A - 2) Autoencoder"
   ]
  },
  {
   "cell_type": "markdown",
   "id": "a9e48b0a",
   "metadata": {},
   "source": [
    "The autoencoder architecture"
   ]
  },
  {
   "cell_type": "code",
   "execution_count": 64,
   "id": "974bbb9f6e96ade2",
   "metadata": {
    "collapsed": false,
    "ExecuteTime": {
     "end_time": "2024-01-02T15:06:05.970605400Z",
     "start_time": "2024-01-02T15:06:05.953559500Z"
    }
   },
   "outputs": [],
   "source": [
    "#Defining the model\n",
    "class ConvAutoencoder(nn.Module):\n",
    "    def __init__(self, input_channels):\n",
    "        super(ConvAutoencoder, self).__init__()\n",
    "        self.encoder = nn.Sequential(\n",
    "            nn.Conv2d(input_channels, 16, kernel_size=3, stride=2, padding=1),\n",
    "            nn.ReLU(),\n",
    "        )\n",
    "        self.decoder = nn.Sequential(\n",
    "            nn.ConvTranspose2d(16, input_channels, kernel_size=3, stride=2, padding=1, output_padding=1),\n",
    "            nn.Sigmoid(),\n",
    "        )\n",
    "\n",
    "        self.bottleneck = nn.Linear(16 * 14 * 14, 500)\n",
    "\n",
    "    def forward(self, x):\n",
    "        x = self.encoder(x)\n",
    "        flatten_x = x.view(x.size(0), -1)  # Flatten the output from the encoder\n",
    "        bottleneck_features = self.bottleneck(flatten_x)\n",
    "        reconstructed = self.decoder(x)\n",
    "        return bottleneck_features, reconstructed"
   ]
  },
  {
   "cell_type": "code",
   "execution_count": 65,
   "id": "9d38714f",
   "metadata": {
    "ExecuteTime": {
     "end_time": "2024-01-02T15:06:06.041078600Z",
     "start_time": "2024-01-02T15:06:05.970605400Z"
    }
   },
   "outputs": [],
   "source": [
    "input_channels_mnist = 1  # MNIST images are grayscale\n",
    "input_channels_cifar = 3  # CIFAR-10 images have 3 channels (RGB)\n",
    "\n",
    "mnist_autoencoder = ConvAutoencoder(input_channels_mnist)\n",
    "cifar_autoencoder = ConvAutoencoder(input_channels_cifar)"
   ]
  },
  {
   "cell_type": "code",
   "execution_count": 66,
   "id": "cd93bd92",
   "metadata": {
    "ExecuteTime": {
     "end_time": "2024-01-02T15:06:06.064809500Z",
     "start_time": "2024-01-02T15:06:06.035568100Z"
    }
   },
   "outputs": [],
   "source": [
    "criterion = nn.MSELoss()\n",
    "optimizer_mnist = torch.optim.Adam(mnist_autoencoder.parameters(), lr=0.001)\n",
    "optimizer_cifar = torch.optim.Adam(cifar_autoencoder.parameters(), lr=0.001)"
   ]
  },
  {
   "cell_type": "markdown",
   "id": "ccaf4ced",
   "metadata": {},
   "source": [
    "The loop for training the model"
   ]
  },
  {
   "cell_type": "code",
   "execution_count": 67,
   "id": "a1369bc8",
   "metadata": {
    "ExecuteTime": {
     "end_time": "2024-01-02T15:06:06.069786800Z",
     "start_time": "2024-01-02T15:06:06.056376800Z"
    }
   },
   "outputs": [],
   "source": [
    "NUM_EPOCH = 10\n",
    "def training_loop (model, loader, optimizer):\n",
    "    model.train()\n",
    "\n",
    "    for epoch in range(NUM_EPOCH):\n",
    "        \n",
    "        for data in loader:\n",
    "            img, _ = data\n",
    "            optimizer.zero_grad()\n",
    "            _, output = model(img)\n",
    "            loss = criterion(output, img)\n",
    "            loss.backward()\n",
    "            optimizer.step()\n",
    "\n",
    "        print(f'Epoch [{epoch + 1}/{NUM_EPOCH}], Loss: {loss.item():.4f}')\n",
    "\n",
    "    return model"
   ]
  },
  {
   "cell_type": "code",
   "execution_count": 68,
   "id": "c5afdbae",
   "metadata": {
    "ExecuteTime": {
     "end_time": "2024-01-02T15:10:06.030197700Z",
     "start_time": "2024-01-02T15:06:06.069786800Z"
    }
   },
   "outputs": [
    {
     "name": "stdout",
     "output_type": "stream",
     "text": [
      "Epoch [1/10], Loss: 0.0026\n",
      "Epoch [2/10], Loss: 0.0012\n",
      "Epoch [3/10], Loss: 0.0008\n",
      "Epoch [4/10], Loss: 0.0006\n",
      "Epoch [5/10], Loss: 0.0006\n",
      "Epoch [6/10], Loss: 0.0005\n",
      "Epoch [7/10], Loss: 0.0004\n",
      "Epoch [8/10], Loss: 0.0004\n",
      "Epoch [9/10], Loss: 0.0004\n",
      "Epoch [10/10], Loss: 0.0004\n"
     ]
    }
   ],
   "source": [
    "mnist_autoencoder = training_loop(mnist_autoencoder,mnist_train_loader,optimizer_mnist)\n",
    "#cifar_autoencoder = training_loop(cifar_autoencoder,cifar_train_loader,optimizer_cifar)"
   ]
  },
  {
   "cell_type": "markdown",
   "id": "05c99cc1",
   "metadata": {},
   "source": [
    "# The evaluation loop to extract 500 features from the bottleneck layer for each input image"
   ]
  },
  {
   "cell_type": "code",
   "execution_count": 69,
   "id": "6b57c362",
   "metadata": {
    "ExecuteTime": {
     "end_time": "2024-01-02T15:10:06.040395300Z",
     "start_time": "2024-01-02T15:10:06.012522300Z"
    }
   },
   "outputs": [],
   "source": [
    "def evaluation (model, loader):\n",
    "    '''\n",
    "    output shape : bottelneck_feature (nb img,500)\n",
    "    '''\n",
    "    model.eval()\n",
    "\n",
    "    bottleneck_features_array = []\n",
    "    outputs_array = []\n",
    "    total_loss = 0\n",
    " \n",
    "    for data in loader:\n",
    "        img, _ = data\n",
    "       \n",
    "        bottleneck_features, output = model(img)\n",
    "\n",
    "        for features in bottleneck_features:\n",
    "            bottleneck_features_array.append(features.detach().numpy())\n",
    "        outputs_array.append(output.detach().numpy())\n",
    "\n",
    "        loss = criterion(output, img)\n",
    "        total_loss += loss.item()\n",
    "\n",
    "    average_loss = total_loss / len(loader)\n",
    "    print(\"Evaluation loss : \",average_loss)\n",
    "    \n",
    "    return np.array(bottleneck_features_array), outputs_array\n"
   ]
  },
  {
   "cell_type": "markdown",
   "id": "257e7f7005b5d1e1",
   "metadata": {
    "collapsed": false
   },
   "source": [
    "### B - Best features selection"
   ]
  },
  {
   "cell_type": "markdown",
   "id": "9140d2d8",
   "metadata": {},
   "source": [
    "Do the Non negativ Matrix Factorization (NMF) to estimate a decomposition W*H from V \\\n",
    "Calcul the error rate E from W*H+E = V \\\n",
    "Sort feature by error rate and keep the 50% best"
   ]
  },
  {
   "cell_type": "code",
   "execution_count": 70,
   "id": "4313031f",
   "metadata": {
    "ExecuteTime": {
     "end_time": "2024-01-02T15:10:06.125275100Z",
     "start_time": "2024-01-02T15:10:06.040395300Z"
    }
   },
   "outputs": [],
   "source": [
    "def feature_filtering_nmf(features, k=1, removal_percentage=50):\n",
    "    '''\n",
    "    output shape : (nb img,250)\n",
    "    '''\n",
    "\n",
    "    #it doesn't work because of negative value so we remove the negative here\n",
    "    min_value = np.min(features)\n",
    "    features_shifted = features - min_value + 1e-10 \n",
    "\n",
    "    # NMF : find the decomposition V=W*H\n",
    "    nmf_model = NMF(n_components=k, init='random', random_state=None)\n",
    "    nmf_features = nmf_model.fit_transform(features_shifted)\n",
    "\n",
    "    #reconstruc W*H to evaluate with V to find E\n",
    "    reconstructed_features = np.dot(nmf_features, nmf_model.components_)\n",
    "    reconstruction_error = np.abs(features - reconstructed_features)\n",
    "\n",
    "    # Sort features by their E\n",
    "    sorted_indices = np.argsort(reconstruction_error, axis=1)\n",
    "    num_features_to_keep = int((100 - removal_percentage) / 100 * features.shape[1])\n",
    "    selected_features = features[np.arange(features.shape[0])[:, None], sorted_indices[:, :num_features_to_keep]]\n",
    "    scaler = StandardScaler()\n",
    "    standardized_features = scaler.fit_transform(selected_features)\n",
    "\n",
    "    return np.array(standardized_features)"
   ]
  },
  {
   "cell_type": "markdown",
   "id": "94783182",
   "metadata": {},
   "source": [
    "### Loop over A and B"
   ]
  },
  {
   "cell_type": "markdown",
   "id": "ffb8efd9",
   "metadata": {},
   "source": [
    "do a loop over steps A and B  to increase number of features"
   ]
  },
  {
   "cell_type": "code",
   "execution_count": 71,
   "id": "27c69341",
   "metadata": {
    "ExecuteTime": {
     "end_time": "2024-01-02T15:14:11.805669800Z",
     "start_time": "2024-01-02T15:10:06.055730700Z"
    }
   },
   "outputs": [
    {
     "name": "stdout",
     "output_type": "stream",
     "text": [
      "Evaluation loss :  0.00038030562103355623\n",
      "Evaluation loss :  0.0003803095477546301\n",
      "Evaluation loss :  0.0003802992422992526\n",
      "Evaluation loss :  0.0003803084314148476\n",
      "Evaluation loss :  0.00038031223349830213\n",
      "Evaluation loss :  0.00038032574834910706\n",
      "Evaluation loss :  0.0003803033115918627\n",
      "Evaluation loss :  0.0003802758510418629\n",
      "Evaluation loss :  0.0003802851795952128\n",
      "Evaluation loss :  0.0003803151961006939\n"
     ]
    }
   ],
   "source": [
    "features_matrix = None\n",
    "\n",
    "for i in range(10):\n",
    "    features,_ = evaluation(mnist_autoencoder,mnist_test_loader)\n",
    "    sorted_features = feature_filtering_nmf(features)\n",
    "    \n",
    "    if i == 0 :\n",
    "        features_matrix = sorted_features\n",
    "    else :\n",
    "        features_matrix = np.concatenate((features_matrix,sorted_features),axis=1)\n",
    "        \n",
    "features_matrix"
   ]
  },
  {
   "cell_type": "markdown",
   "source": [
    "### C - Variational Autoencoder"
   ],
   "metadata": {
    "collapsed": false
   },
   "id": "c74355b5"
  },
  {
   "cell_type": "markdown",
   "source": [
    "1. # Define the dimensions"
   ],
   "metadata": {
    "collapsed": false
   },
   "id": "ecdbaec17cae500b"
  },
  {
   "cell_type": "code",
   "execution_count": 125,
   "outputs": [],
   "source": [
    "input_dim = 2500\n",
    "hidden_dim = 500\n",
    "latent_dim = 100"
   ],
   "metadata": {
    "collapsed": false,
    "ExecuteTime": {
     "end_time": "2024-01-02T15:50:02.537556300Z",
     "start_time": "2024-01-02T15:50:02.480595800Z"
    }
   },
   "id": "d2f8fb1c01a23ba8"
  },
  {
   "cell_type": "markdown",
   "source": [
    "2. # Define the Encoders"
   ],
   "metadata": {
    "collapsed": false
   },
   "id": "f5a03a52553f222d"
  },
  {
   "cell_type": "code",
   "execution_count": 134,
   "outputs": [],
   "source": [
    "class Encoder(nn.Module):\n",
    "    def __init__(self):\n",
    "        super(Encoder, self).__init__()\n",
    "        self.fc1 = nn.Linear(input_dim, hidden_dim)\n",
    "        self.fc_mu = nn.Linear(hidden_dim, latent_dim)\n",
    "        self.fc_logvar = nn.Linear(hidden_dim, latent_dim)\n",
    "\n",
    "    def forward(self, x):\n",
    "        x = F.relu(self.fc1(x))\n",
    "        mu = self.fc_mu(x)\n",
    "        logvar = self.fc_logvar(x)\n",
    "        return mu, logvar"
   ],
   "metadata": {
    "collapsed": false,
    "ExecuteTime": {
     "end_time": "2024-01-02T16:00:10.432235600Z",
     "start_time": "2024-01-02T16:00:10.381847600Z"
    }
   },
   "id": "36a3d2d118485b21"
  },
  {
   "cell_type": "code",
   "execution_count": 135,
   "outputs": [],
   "source": [
    "class SecondEncoder(nn.Module):\n",
    "    def __init__(self):\n",
    "        super(SecondEncoder, self).__init__()\n",
    "        self.fc1 = nn.Linear(input_dim, hidden_dim * 2)\n",
    "        self.fc2 = nn.Linear(hidden_dim * 2, hidden_dim)\n",
    "        self.fc_mu = nn.Linear(hidden_dim, latent_dim)\n",
    "        self.fc_logvar = nn.Linear(hidden_dim, latent_dim)\n",
    "\n",
    "    def forward(self, x):\n",
    "        x = F.relu(self.fc1(x))\n",
    "        x = F.relu(self.fc2(x))\n",
    "        mu = self.fc_mu(x)\n",
    "        logvar = self.fc_logvar(x)\n",
    "        return mu, logvar\n"
   ],
   "metadata": {
    "collapsed": false,
    "ExecuteTime": {
     "end_time": "2024-01-02T16:00:13.218532Z",
     "start_time": "2024-01-02T16:00:13.185757900Z"
    }
   },
   "id": "6d140e78d5c3efa3"
  },
  {
   "cell_type": "code",
   "execution_count": 136,
   "outputs": [],
   "source": [
    "class ThirdEncoder(nn.Module):\n",
    "    def __init__(self):\n",
    "        super(ThirdEncoder, self).__init__()\n",
    "        self.fc1 = nn.Linear(input_dim, hidden_dim // 2)\n",
    "        self.fc2 = nn.Linear(hidden_dim // 2, hidden_dim)\n",
    "        self.fc3 = nn.Linear(hidden_dim, hidden_dim * 2)\n",
    "        self.fc_mu = nn.Linear(hidden_dim * 2, latent_dim)\n",
    "        self.fc_logvar = nn.Linear(hidden_dim * 2, latent_dim)\n",
    "\n",
    "    def forward(self, x):\n",
    "        x = F.relu(self.fc1(x))\n",
    "        x = F.relu(self.fc2(x))\n",
    "        x = F.relu(self.fc3(x))\n",
    "        mu = self.fc_mu(x)\n",
    "        logvar = self.fc_logvar(x)\n",
    "        return mu, logvar\n"
   ],
   "metadata": {
    "collapsed": false,
    "ExecuteTime": {
     "end_time": "2024-01-02T16:00:15.411698800Z",
     "start_time": "2024-01-02T16:00:15.386332300Z"
    }
   },
   "id": "2304670e40a651ea"
  },
  {
   "cell_type": "code",
   "execution_count": 137,
   "outputs": [],
   "source": [
    "class FourthEncoder(nn.Module):\n",
    "    def __init__(self):\n",
    "        super(FourthEncoder, self).__init__()\n",
    "        self.fc1 = nn.Linear(input_dim, hidden_dim * 2)\n",
    "        self.fc2 = nn.Linear(hidden_dim * 2, hidden_dim)\n",
    "        self.fc3 = nn.Linear(hidden_dim, hidden_dim // 2)\n",
    "        self.fc4 = nn.Linear(hidden_dim // 2, latent_dim)\n",
    "        self.fc5 = nn.Linear(hidden_dim // 2, latent_dim)\n",
    "\n",
    "    def forward(self, x):\n",
    "        x = F.relu(self.fc1(x))\n",
    "        x = F.relu(self.fc2(x))\n",
    "        x = F.relu(self.fc3(x))\n",
    "        mu = self.fc4(x)\n",
    "        logvar = self.fc5(x)\n",
    "        return mu, logvar\n"
   ],
   "metadata": {
    "collapsed": false,
    "ExecuteTime": {
     "end_time": "2024-01-02T16:00:19.305337700Z",
     "start_time": "2024-01-02T16:00:19.293663400Z"
    }
   },
   "id": "f5c0ca2ecb532b61"
  },
  {
   "cell_type": "markdown",
   "source": [
    "# Define the Decoder"
   ],
   "metadata": {
    "collapsed": false
   },
   "id": "d56b547df21df315"
  },
  {
   "cell_type": "markdown",
   "source": [
    "# First Decoder "
   ],
   "metadata": {
    "collapsed": false
   },
   "id": "9061f3caec153e77"
  },
  {
   "cell_type": "code",
   "execution_count": 138,
   "outputs": [],
   "source": [
    "class Decoder(nn.Module):\n",
    "    def __init__(self):\n",
    "        super(Decoder, self).__init__()\n",
    "        self.fc2 = nn.Linear(latent_dim, hidden_dim)\n",
    "        self.fc3 = nn.Linear(hidden_dim, input_dim)\n",
    "        self.sigmoid = nn.Sigmoid()  # Adding a sigmoid activation function\n",
    "\n",
    "    def forward(self, z):\n",
    "        z = F.relu(self.fc2(z))\n",
    "        reconstruction = self.sigmoid(self.fc3(z))  # Applying sigmoid activation\n",
    "        return reconstruction"
   ],
   "metadata": {
    "collapsed": false,
    "ExecuteTime": {
     "end_time": "2024-01-02T16:00:22.136192100Z",
     "start_time": "2024-01-02T16:00:22.126043700Z"
    }
   },
   "id": "38c2db1ed18a3a73"
  },
  {
   "cell_type": "markdown",
   "source": [
    "# Second Decoder"
   ],
   "metadata": {
    "collapsed": false
   },
   "id": "26b0b0f42416b77f"
  },
  {
   "cell_type": "code",
   "execution_count": null,
   "outputs": [],
   "source": [
    "class SecondDecoder(nn.Module):\n",
    "    def __init__(self, latent_dim, hidden_dim, input_dim):\n",
    "        super(SecondDecoder, self).__init__()\n",
    "        self.fc1 = nn.Linear(latent_dim, 2 * hidden_dim)\n",
    "        self.fc2 = nn.Linear(2 * hidden_dim, 2 * hidden_dim)\n",
    "        self.fc3 = nn.Linear(2 * hidden_dim, input_dim)\n",
    "        self.relu = nn.ReLU()\n",
    "        self.sigmoid = nn.Sigmoid()\n",
    "\n",
    "    def forward(self, z):\n",
    "        z = self.relu(self.fc1(z))\n",
    "        z = self.relu(self.fc2(z))\n",
    "        reconstruction = self.sigmoid(self.fc3(z))\n",
    "        return reconstruction"
   ],
   "metadata": {
    "collapsed": false
   },
   "id": "3dd4e1990265109a"
  },
  {
   "cell_type": "markdown",
   "source": [
    "# Third Decoder"
   ],
   "metadata": {
    "collapsed": false
   },
   "id": "3be1c6beae6152aa"
  },
  {
   "cell_type": "code",
   "execution_count": null,
   "outputs": [],
   "source": [
    "class ThirdDecoder(nn.Module):\n",
    "    def __init__(self, latent_dim, hidden_dim, input_dim):\n",
    "        super(ThirdDecoder, self).__init__()\n",
    "        self.fc1 = nn.Linear(latent_dim, 4 * hidden_dim)\n",
    "        self.fc2 = nn.Linear(4 * hidden_dim, 2 * hidden_dim)\n",
    "        self.fc3 = nn.Linear(2 * hidden_dim, hidden_dim)\n",
    "        self.fc4 = nn.Linear(hidden_dim, input_dim)\n",
    "        self.leaky_relu = nn.LeakyReLU()\n",
    "        self.tanh = nn.Tanh()\n",
    "\n",
    "    def forward(self, z):\n",
    "        z = self.leaky_relu(self.fc1(z))\n",
    "        z = self.leaky_relu(self.fc2(z))\n",
    "        z = self.leaky_relu(self.fc3(z))\n",
    "        reconstruction = self.tanh(self.fc4(z))\n",
    "        return reconstruction"
   ],
   "metadata": {
    "collapsed": false
   },
   "id": "5be6eff65c6981e1"
  },
  {
   "cell_type": "markdown",
   "source": [
    "# Define the VAE"
   ],
   "metadata": {
    "collapsed": false
   },
   "id": "fc330de69b2fabd1"
  },
  {
   "cell_type": "markdown",
   "source": [
    "# Create instances of each encoder"
   ],
   "metadata": {
    "collapsed": false
   },
   "id": "9c200a1da49e97f"
  },
  {
   "cell_type": "code",
   "execution_count": 139,
   "outputs": [],
   "source": [
    "encoder = Encoder()\n",
    "second_encoder = SecondEncoder()\n",
    "third_encoder = ThirdEncoder()\n",
    "fourth_encoder = FourthEncoder()\n",
    "\n",
    "# Put all encoders into a list\n",
    "all_encoders = [encoder, second_encoder, third_encoder, fourth_encoder]"
   ],
   "metadata": {
    "collapsed": false,
    "ExecuteTime": {
     "end_time": "2024-01-02T16:00:25.227033200Z",
     "start_time": "2024-01-02T16:00:25.115736900Z"
    }
   },
   "id": "17adb35de0caf903"
  },
  {
   "cell_type": "code",
   "execution_count": 155,
   "outputs": [],
   "source": [
    "class VAE(nn.Module):\n",
    "    def __init__(self, encoders):\n",
    "        super(VAE, self).__init__()\n",
    "        self.encoders =  nn.ModuleList(all_encoders)\n",
    "        self.decoder = Decoder()\n",
    "\n",
    "    def reparameterize(self, mu, logvar):\n",
    "        std = torch.exp(0.5 * logvar)\n",
    "        eps = torch.randn_like(std)\n",
    "        return mu + eps * std\n",
    "\n",
    "    def forward(self, x, encoder_idx):\n",
    "        mu, logvar = self.encoders[encoder_idx](x)\n",
    "        z = self.reparameterize(mu, logvar)\n",
    "        reconstruction = self.decoder(z)\n",
    "        return reconstruction, mu, logvar"
   ],
   "metadata": {
    "collapsed": false,
    "ExecuteTime": {
     "end_time": "2024-01-02T16:05:20.294050700Z",
     "start_time": "2024-01-02T16:05:20.229394500Z"
    }
   },
   "id": "5cef2933ff119699"
  },
  {
   "cell_type": "markdown",
   "source": [
    "5. # Initialize the VAE model"
   ],
   "metadata": {
    "collapsed": false
   },
   "id": "3dcc50f7f645c43b"
  },
  {
   "cell_type": "code",
   "execution_count": 156,
   "outputs": [
    {
     "data": {
      "text/plain": "VAE(\n  (encoders): ModuleList(\n    (0): Encoder(\n      (fc1): Linear(in_features=2500, out_features=500, bias=True)\n      (fc_mu): Linear(in_features=500, out_features=100, bias=True)\n      (fc_logvar): Linear(in_features=500, out_features=100, bias=True)\n    )\n    (1): SecondEncoder(\n      (fc1): Linear(in_features=2500, out_features=1000, bias=True)\n      (fc2): Linear(in_features=1000, out_features=500, bias=True)\n      (fc_mu): Linear(in_features=500, out_features=100, bias=True)\n      (fc_logvar): Linear(in_features=500, out_features=100, bias=True)\n    )\n    (2): ThirdEncoder(\n      (fc1): Linear(in_features=2500, out_features=250, bias=True)\n      (fc2): Linear(in_features=250, out_features=500, bias=True)\n      (fc3): Linear(in_features=500, out_features=1000, bias=True)\n      (fc_mu): Linear(in_features=1000, out_features=100, bias=True)\n      (fc_logvar): Linear(in_features=1000, out_features=100, bias=True)\n    )\n    (3): FourthEncoder(\n      (fc1): Linear(in_features=2500, out_features=1000, bias=True)\n      (fc2): Linear(in_features=1000, out_features=500, bias=True)\n      (fc3): Linear(in_features=500, out_features=250, bias=True)\n      (fc4): Linear(in_features=250, out_features=100, bias=True)\n      (fc5): Linear(in_features=250, out_features=100, bias=True)\n    )\n  )\n  (decoder): Decoder(\n    (fc2): Linear(in_features=100, out_features=500, bias=True)\n    (fc3): Linear(in_features=500, out_features=2500, bias=True)\n    (sigmoid): Sigmoid()\n  )\n)"
     },
     "execution_count": 156,
     "metadata": {},
     "output_type": "execute_result"
    }
   ],
   "source": [
    "model = VAE(all_encoders)\n",
    "model"
   ],
   "metadata": {
    "collapsed": false,
    "ExecuteTime": {
     "end_time": "2024-01-02T16:05:23.036778100Z",
     "start_time": "2024-01-02T16:05:22.948437600Z"
    }
   },
   "id": "f3047d0a09085996"
  },
  {
   "cell_type": "markdown",
   "source": [
    "6. # Create a DataLoader"
   ],
   "metadata": {
    "collapsed": false
   },
   "id": "9629b79e113ec555"
  },
  {
   "cell_type": "code",
   "execution_count": 171,
   "outputs": [],
   "source": [
    "# Normalize the data to be in the [0, 1] range\n",
    "max_val = features_matrix.max()\n",
    "min_val = features_matrix.min()\n",
    "normalized_features_matrix = (features_matrix - min_val) / (max_val - min_val)\n",
    "features_tensor = torch.Tensor(normalized_features_matrix)\n",
    "batch_size = 64\n",
    "data_loader = DataLoader(TensorDataset(features_tensor), batch_size=batch_size, shuffle=True)\n",
    "\n",
    "# Iterate through the data loader\n",
    "for batch_idx, data in enumerate(data_loader):\n",
    "    inputs = data[0]\n",
    "    # Iterate through each encoder\n",
    "    for encoder_idx, encoder in enumerate(all_encoders):\n",
    "        reconstruction, mu, logvar = model.forward(inputs, encoder_idx)"
   ],
   "metadata": {
    "collapsed": false,
    "ExecuteTime": {
     "end_time": "2024-01-02T16:30:51.340135600Z",
     "start_time": "2024-01-02T16:30:28.584844500Z"
    }
   },
   "id": "8bf66b533d875023"
  },
  {
   "cell_type": "markdown",
   "source": [
    "7. # Define the loss function (using the reconstruction loss and the KL divergence)"
   ],
   "metadata": {
    "collapsed": false
   },
   "id": "8d1328f5e9312a82"
  },
  {
   "cell_type": "code",
   "execution_count": 172,
   "outputs": [],
   "source": [
    "def loss_function(recon_x, x, mu, logvar):\n",
    "    #print(f\"recon_x shape: {recon_x.shape}, x shape: {x.shape}\")\n",
    "    recon_loss = F.binary_cross_entropy(recon_x, x, reduction='sum')\n",
    "    kld_loss = -0.5 * torch.sum(1 + logvar - mu.pow(2) - logvar.exp())\n",
    "    return recon_loss + kld_loss"
   ],
   "metadata": {
    "collapsed": false,
    "ExecuteTime": {
     "end_time": "2024-01-02T16:30:58.961692700Z",
     "start_time": "2024-01-02T16:30:58.914632500Z"
    }
   },
   "id": "c4cf9a2bde7e4a33"
  },
  {
   "cell_type": "markdown",
   "source": [
    "8. # Define the optimizer"
   ],
   "metadata": {
    "collapsed": false
   },
   "id": "9fcee539886f49a7"
  },
  {
   "cell_type": "code",
   "execution_count": 173,
   "outputs": [
    {
     "data": {
      "text/plain": "Adam (\nParameter Group 0\n    amsgrad: False\n    betas: (0.9, 0.999)\n    capturable: False\n    differentiable: False\n    eps: 1e-08\n    foreach: None\n    fused: None\n    lr: 0.001\n    maximize: False\n    weight_decay: 0\n)"
     },
     "execution_count": 173,
     "metadata": {},
     "output_type": "execute_result"
    }
   ],
   "source": [
    "optimizer = torch.optim.Adam(model.parameters(), lr=1e-3)\n",
    "optimizer"
   ],
   "metadata": {
    "collapsed": false,
    "ExecuteTime": {
     "end_time": "2024-01-02T16:31:01.276338400Z",
     "start_time": "2024-01-02T16:31:01.252825Z"
    }
   },
   "id": "98a8f9600fb1c972"
  },
  {
   "cell_type": "markdown",
   "source": [
    "9. # Training loop"
   ],
   "metadata": {
    "collapsed": false
   },
   "id": "33ded01161eb1ddb"
  },
  {
   "cell_type": "code",
   "execution_count": 174,
   "outputs": [
    {
     "name": "stdout",
     "output_type": "stream",
     "text": [
      "Epoch 1/10, Loss: 1712.4117\n",
      "Epoch 2/10, Loss: 1711.2140\n",
      "Epoch 3/10, Loss: 1711.1183\n",
      "Epoch 4/10, Loss: 1711.0875\n",
      "Epoch 5/10, Loss: 1711.0693\n",
      "Epoch 6/10, Loss: 1711.0571\n",
      "Epoch 7/10, Loss: 1711.0483\n",
      "Epoch 8/10, Loss: 1711.0386\n",
      "Epoch 9/10, Loss: 1711.0322\n",
      "Epoch 10/10, Loss: 1711.0266\n"
     ]
    }
   ],
   "source": [
    "num_epochs = 10\n",
    "encoder_idx = 0  # Use the first encoder\n",
    "\n",
    "for epoch in range(num_epochs):\n",
    "    total_loss = 0\n",
    "    for batch_idx, data in enumerate(data_loader):\n",
    "        optimizer.zero_grad()\n",
    "        recon_batch, mu, logvar = model.forward(data[0], encoder_idx)  # Pass encoder_idx\n",
    "        loss = loss_function(recon_batch, data[0], mu, logvar)\n",
    "        loss.backward()\n",
    "        total_loss += loss.item()\n",
    "        optimizer.step()\n",
    "    print(f\"Epoch {epoch+1}/{num_epochs}, Loss: {total_loss / len(data_loader.dataset):.4f}\")"
   ],
   "metadata": {
    "collapsed": false,
    "ExecuteTime": {
     "end_time": "2024-01-02T16:36:57.987790200Z",
     "start_time": "2024-01-02T16:31:06.693538400Z"
    }
   },
   "id": "e0bce3aa039323c"
  },
  {
   "cell_type": "code",
   "execution_count": 178,
   "outputs": [
    {
     "data": {
      "text/plain": "array([[-0.00214592, -0.00082188, -0.00053966, ...,  0.00129845,\n         0.00212226, -0.00081678],\n       [-0.00214592, -0.00082188, -0.00053966, ...,  0.00129845,\n         0.00212226, -0.00081678],\n       [-0.00214592, -0.00082188, -0.00053966, ...,  0.00129845,\n         0.00212226, -0.00081678],\n       ...,\n       [-0.00214592, -0.00082188, -0.00053966, ...,  0.00129845,\n         0.00212226, -0.00081678],\n       [-0.00214592, -0.00082188, -0.00053966, ...,  0.00129845,\n         0.00212226, -0.00081678],\n       [-0.00214592, -0.00082188, -0.00053966, ...,  0.00129845,\n         0.00212226, -0.00081678]], dtype=float32)"
     },
     "execution_count": 178,
     "metadata": {},
     "output_type": "execute_result"
    }
   ],
   "source": [
    "# Set the model to evaluation mode\n",
    "model.eval()\n",
    "\n",
    "final_representations = []\n",
    "\n",
    "# Iterate through the data loader\n",
    "for batch_idx, data in enumerate(data_loader):\n",
    "    inputs = data[0]  # Assuming the input data is at index 0\n",
    "    with torch.no_grad():\n",
    "        # Obtain the representations from the encoder part of the VAE\n",
    "        mu, _ = model.encoders[encoder_idx](inputs)  # Replace encoder_idx with the desired encoder index\n",
    "        final_representations.append(mu.numpy())  # Convert to numpy array and store\n",
    "\n",
    "# Concatenate representations if required\n",
    "final_representations = np.concatenate(final_representations, axis=0)\n",
    "final_representations"
   ],
   "metadata": {
    "collapsed": false,
    "ExecuteTime": {
     "end_time": "2024-01-02T17:49:32.735381900Z",
     "start_time": "2024-01-02T17:49:28.993690700Z"
    }
   },
   "id": "398a62c811edb4a0"
  },
  {
   "cell_type": "markdown",
   "source": [
    "### D- Basic Subspace Clustering"
   ],
   "metadata": {
    "collapsed": false
   },
   "id": "897bd7fef233b5e0"
  },
  {
   "cell_type": "markdown",
   "source": [
    "# Compute the similarity matrix using cosine similarity"
   ],
   "metadata": {
    "collapsed": false
   },
   "id": "1bd7da16f4e8963c"
  },
  {
   "cell_type": "code",
   "execution_count": 204,
   "outputs": [],
   "source": [
    "#J'ai pas assez de ram sur mon pc mdr !!!! Ducoup je fais un PCA mais si ona le pc pour sa devrai fonctioner. PS: IL faut au loin 14GB de ram mdr donc un pc qui a 32GB de ram pour le tourner.\n",
    "similarity_matrix = cosine_similarity(final_representations)\n",
    "similarity_matrix\n"
   ],
   "metadata": {
    "collapsed": false,
    "ExecuteTime": {
     "end_time": "2024-01-02T18:17:42.432617700Z",
     "start_time": "2024-01-02T18:17:42.120806500Z"
    }
   },
   "id": "b221ad65c8da1d81"
  },
  {
   "cell_type": "markdown",
   "source": [
    "# Generate the graph Laplacian"
   ],
   "metadata": {
    "collapsed": false
   },
   "id": "8df1b40c915eff8e"
  },
  {
   "cell_type": "code",
   "execution_count": 191,
   "outputs": [
    {
     "ename": "TypeError",
     "evalue": "sum() received an invalid combination of arguments - got (axis=int, out=NoneType, ), but expected one of:\n * (*, torch.dtype dtype)\n      didn't match because some of the keywords were incorrect: axis, out\n * (tuple of ints dim, bool keepdim, *, torch.dtype dtype)\n * (tuple of names dim, bool keepdim, *, torch.dtype dtype)\n",
     "output_type": "error",
     "traceback": [
      "\u001B[1;31m---------------------------------------------------------------------------\u001B[0m",
      "\u001B[1;31mTypeError\u001B[0m                                 Traceback (most recent call last)",
      "Cell \u001B[1;32mIn[191], line 1\u001B[0m\n\u001B[1;32m----> 1\u001B[0m degree_matrix \u001B[38;5;241m=\u001B[39m np\u001B[38;5;241m.\u001B[39mdiag(\u001B[43mnp\u001B[49m\u001B[38;5;241;43m.\u001B[39;49m\u001B[43msum\u001B[49m\u001B[43m(\u001B[49m\u001B[43msimilarity_matrix\u001B[49m\u001B[43m,\u001B[49m\u001B[43m \u001B[49m\u001B[43maxis\u001B[49m\u001B[38;5;241;43m=\u001B[39;49m\u001B[38;5;241;43m1\u001B[39;49m\u001B[43m)\u001B[49m)\n\u001B[0;32m      2\u001B[0m laplacian_matrix \u001B[38;5;241m=\u001B[39m degree_matrix \u001B[38;5;241m-\u001B[39m similarity_matrix\n\u001B[0;32m      3\u001B[0m normalized_laplacian \u001B[38;5;241m=\u001B[39m np\u001B[38;5;241m.\u001B[39mdot(np\u001B[38;5;241m.\u001B[39mdot(np\u001B[38;5;241m.\u001B[39msqrt(np\u001B[38;5;241m.\u001B[39mlinalg\u001B[38;5;241m.\u001B[39minv(degree_matrix)), laplacian_matrix), np\u001B[38;5;241m.\u001B[39msqrt(np\u001B[38;5;241m.\u001B[39mlinalg\u001B[38;5;241m.\u001B[39minv(degree_matrix)))\n",
      "File \u001B[1;32m~\\AppData\\Local\\Programs\\Python\\Python310\\lib\\site-packages\\numpy\\core\\fromnumeric.py:2313\u001B[0m, in \u001B[0;36msum\u001B[1;34m(a, axis, dtype, out, keepdims, initial, where)\u001B[0m\n\u001B[0;32m   2310\u001B[0m         \u001B[38;5;28;01mreturn\u001B[39;00m out\n\u001B[0;32m   2311\u001B[0m     \u001B[38;5;28;01mreturn\u001B[39;00m res\n\u001B[1;32m-> 2313\u001B[0m \u001B[38;5;28;01mreturn\u001B[39;00m \u001B[43m_wrapreduction\u001B[49m\u001B[43m(\u001B[49m\u001B[43ma\u001B[49m\u001B[43m,\u001B[49m\u001B[43m \u001B[49m\u001B[43mnp\u001B[49m\u001B[38;5;241;43m.\u001B[39;49m\u001B[43madd\u001B[49m\u001B[43m,\u001B[49m\u001B[43m \u001B[49m\u001B[38;5;124;43m'\u001B[39;49m\u001B[38;5;124;43msum\u001B[39;49m\u001B[38;5;124;43m'\u001B[39;49m\u001B[43m,\u001B[49m\u001B[43m \u001B[49m\u001B[43maxis\u001B[49m\u001B[43m,\u001B[49m\u001B[43m \u001B[49m\u001B[43mdtype\u001B[49m\u001B[43m,\u001B[49m\u001B[43m \u001B[49m\u001B[43mout\u001B[49m\u001B[43m,\u001B[49m\u001B[43m \u001B[49m\u001B[43mkeepdims\u001B[49m\u001B[38;5;241;43m=\u001B[39;49m\u001B[43mkeepdims\u001B[49m\u001B[43m,\u001B[49m\n\u001B[0;32m   2314\u001B[0m \u001B[43m                      \u001B[49m\u001B[43minitial\u001B[49m\u001B[38;5;241;43m=\u001B[39;49m\u001B[43minitial\u001B[49m\u001B[43m,\u001B[49m\u001B[43m \u001B[49m\u001B[43mwhere\u001B[49m\u001B[38;5;241;43m=\u001B[39;49m\u001B[43mwhere\u001B[49m\u001B[43m)\u001B[49m\n",
      "File \u001B[1;32m~\\AppData\\Local\\Programs\\Python\\Python310\\lib\\site-packages\\numpy\\core\\fromnumeric.py:86\u001B[0m, in \u001B[0;36m_wrapreduction\u001B[1;34m(obj, ufunc, method, axis, dtype, out, **kwargs)\u001B[0m\n\u001B[0;32m     84\u001B[0m             \u001B[38;5;28;01mreturn\u001B[39;00m reduction(axis\u001B[38;5;241m=\u001B[39maxis, dtype\u001B[38;5;241m=\u001B[39mdtype, out\u001B[38;5;241m=\u001B[39mout, \u001B[38;5;241m*\u001B[39m\u001B[38;5;241m*\u001B[39mpasskwargs)\n\u001B[0;32m     85\u001B[0m         \u001B[38;5;28;01melse\u001B[39;00m:\n\u001B[1;32m---> 86\u001B[0m             \u001B[38;5;28;01mreturn\u001B[39;00m reduction(axis\u001B[38;5;241m=\u001B[39maxis, out\u001B[38;5;241m=\u001B[39mout, \u001B[38;5;241m*\u001B[39m\u001B[38;5;241m*\u001B[39mpasskwargs)\n\u001B[0;32m     88\u001B[0m \u001B[38;5;28;01mreturn\u001B[39;00m ufunc\u001B[38;5;241m.\u001B[39mreduce(obj, axis, dtype, out, \u001B[38;5;241m*\u001B[39m\u001B[38;5;241m*\u001B[39mpasskwargs)\n",
      "\u001B[1;31mTypeError\u001B[0m: sum() received an invalid combination of arguments - got (axis=int, out=NoneType, ), but expected one of:\n * (*, torch.dtype dtype)\n      didn't match because some of the keywords were incorrect: axis, out\n * (tuple of ints dim, bool keepdim, *, torch.dtype dtype)\n * (tuple of names dim, bool keepdim, *, torch.dtype dtype)\n"
     ]
    }
   ],
   "source": [
    "degree_matrix = np.diag(np.sum(similarity_matrix, axis=1))\n",
    "laplacian_matrix = degree_matrix - similarity_matrix\n",
    "normalized_laplacian = np.dot(np.dot(np.sqrt(np.linalg.inv(degree_matrix)), laplacian_matrix), np.sqrt(np.linalg.inv(degree_matrix)))"
   ],
   "metadata": {
    "collapsed": false,
    "ExecuteTime": {
     "end_time": "2024-01-02T17:57:42.810583200Z",
     "start_time": "2024-01-02T17:57:42.687653Z"
    }
   },
   "id": "e61eb5403d21469"
  },
  {
   "cell_type": "markdown",
   "source": [
    "# Compute the eigenvalues and eigenvectors"
   ],
   "metadata": {
    "collapsed": false
   },
   "id": "8ed266b3d289bd58"
  },
  {
   "cell_type": "code",
   "execution_count": null,
   "outputs": [],
   "source": [
    "eigenvalues, eigenvectors = np.linalg.eigh(normalized_laplacian)\n",
    "k = 10  # Example: Selecting top k eigenvectors\n",
    "k_eigenvectors = eigenvectors[:, :k]"
   ],
   "metadata": {
    "collapsed": false
   },
   "id": "a91f79ac8670e2fc"
  },
  {
   "cell_type": "markdown",
   "source": [
    "# Perform K-Means clustering on selected eigenvectors"
   ],
   "metadata": {
    "collapsed": false
   },
   "id": "c0ab9234001e7cc4"
  },
  {
   "cell_type": "code",
   "execution_count": null,
   "outputs": [],
   "source": [
    "n_clusters = 5  # Example: Number of clusters\n",
    "spectral_model = SpectralClustering(n_clusters=n_clusters, affinity='nearest_neighbors')\n",
    "pseudo_labels = spectral_model.fit_predict(k_eigenvectors)"
   ],
   "metadata": {
    "collapsed": false
   },
   "id": "25168b197e0ac2dd"
  },
  {
   "cell_type": "markdown",
   "source": [
    "# Evaluate the quality of clustering"
   ],
   "metadata": {
    "collapsed": false
   },
   "id": "3faa2549fae1687c"
  },
  {
   "cell_type": "code",
   "execution_count": null,
   "outputs": [],
   "source": [
    "silhouette_avg = silhouette_score(k_eigenvectors, pseudo_labels)"
   ],
   "metadata": {
    "collapsed": false
   },
   "id": "100d379257f1b42a"
  }
 ],
 "metadata": {
  "kernelspec": {
   "display_name": "Python 3",
   "language": "python",
   "name": "python3"
  },
  "language_info": {
   "codemirror_mode": {
    "name": "ipython",
    "version": 3
   },
   "file_extension": ".py",
   "mimetype": "text/x-python",
   "name": "python",
   "nbconvert_exporter": "python",
   "pygments_lexer": "ipython3",
   "version": "3.11.6"
  }
 },
 "nbformat": 4,
 "nbformat_minor": 5
}
