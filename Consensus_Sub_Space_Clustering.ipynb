{
 "cells": [
  {
   "cell_type": "markdown",
   "source": [
    "Initial Imports:"
   ],
   "metadata": {
    "collapsed": false
   },
   "id": "de1db54c87ef1cd8"
  },
  {
   "cell_type": "code",
   "execution_count": 10,
   "outputs": [],
   "source": [
    "import torchvision.datasets as datasets\n",
    "import torchvision.transforms as transforms\n",
    "import pandas as pd"
   ],
   "metadata": {
    "collapsed": false,
    "ExecuteTime": {
     "end_time": "2023-12-29T12:13:08.509020600Z",
     "start_time": "2023-12-29T12:13:06.023293Z"
    }
   },
   "id": "4ddc06e7fedf8ce9"
  },
  {
   "cell_type": "markdown",
   "source": [
    "1.***[Loading the data]***:\n",
    "For MNIST:\n",
    "In Python using TensorFlow and Keras:"
   ],
   "metadata": {
    "collapsed": false
   },
   "id": "e86669f7f9aa2933"
  },
  {
   "cell_type": "code",
   "execution_count": 3,
   "outputs": [
    {
     "name": "stdout",
     "output_type": "stream",
     "text": [
      "Downloading http://yann.lecun.com/exdb/mnist/train-images-idx3-ubyte.gz\n",
      "Downloading http://yann.lecun.com/exdb/mnist/train-images-idx3-ubyte.gz to ./data\\MNIST\\raw\\train-images-idx3-ubyte.gz\n"
     ]
    },
    {
     "name": "stderr",
     "output_type": "stream",
     "text": [
      "100%|██████████| 9912422/9912422 [00:01<00:00, 5712550.90it/s]\n"
     ]
    },
    {
     "name": "stdout",
     "output_type": "stream",
     "text": [
      "Extracting ./data\\MNIST\\raw\\train-images-idx3-ubyte.gz to ./data\\MNIST\\raw\n",
      "\n",
      "Downloading http://yann.lecun.com/exdb/mnist/train-labels-idx1-ubyte.gz\n",
      "Downloading http://yann.lecun.com/exdb/mnist/train-labels-idx1-ubyte.gz to ./data\\MNIST\\raw\\train-labels-idx1-ubyte.gz\n"
     ]
    },
    {
     "name": "stderr",
     "output_type": "stream",
     "text": [
      "100%|██████████| 28881/28881 [00:00<00:00, 68207034.81it/s]\n"
     ]
    },
    {
     "name": "stdout",
     "output_type": "stream",
     "text": [
      "Extracting ./data\\MNIST\\raw\\train-labels-idx1-ubyte.gz to ./data\\MNIST\\raw\n",
      "\n",
      "Downloading http://yann.lecun.com/exdb/mnist/t10k-images-idx3-ubyte.gz\n",
      "Downloading http://yann.lecun.com/exdb/mnist/t10k-images-idx3-ubyte.gz to ./data\\MNIST\\raw\\t10k-images-idx3-ubyte.gz\n"
     ]
    },
    {
     "name": "stderr",
     "output_type": "stream",
     "text": [
      "100%|██████████| 1648877/1648877 [00:00<00:00, 12232656.54it/s]"
     ]
    },
    {
     "name": "stdout",
     "output_type": "stream",
     "text": [
      "Extracting ./data\\MNIST\\raw\\t10k-images-idx3-ubyte.gz to ./data\\MNIST\\raw"
     ]
    },
    {
     "name": "stderr",
     "output_type": "stream",
     "text": [
      "\n"
     ]
    },
    {
     "name": "stdout",
     "output_type": "stream",
     "text": [
      "\n",
      "\n",
      "Downloading http://yann.lecun.com/exdb/mnist/t10k-labels-idx1-ubyte.gz\n",
      "Downloading http://yann.lecun.com/exdb/mnist/t10k-labels-idx1-ubyte.gz to ./data\\MNIST\\raw\\t10k-labels-idx1-ubyte.gz\n"
     ]
    },
    {
     "name": "stderr",
     "output_type": "stream",
     "text": [
      "100%|██████████| 4542/4542 [00:00<00:00, 967719.64it/s]"
     ]
    },
    {
     "name": "stdout",
     "output_type": "stream",
     "text": [
      "Extracting ./data\\MNIST\\raw\\t10k-labels-idx1-ubyte.gz to ./data\\MNIST\\raw\n"
     ]
    },
    {
     "name": "stderr",
     "output_type": "stream",
     "text": [
      "\n"
     ]
    }
   ],
   "source": [
    "# Transformations to apply to the dataset\n",
    "transform = transforms.Compose([\n",
    "    transforms.ToTensor(),  # Convert images to PyTorch tensors\n",
    "    transforms.Normalize((0.5,), (0.5,))  # Normalize the data\n",
    "])\n",
    "\n",
    "# Load the MNIST dataset\n",
    "mnist_trainset = datasets.MNIST(root='./data', train=True, download=True, transform=transform)\n",
    "mnist_testset = datasets.MNIST(root='./data', train=False, download=True, transform=transform)"
   ],
   "metadata": {
    "collapsed": false,
    "ExecuteTime": {
     "end_time": "2023-12-29T12:05:48.454108900Z",
     "start_time": "2023-12-29T12:05:42.724539Z"
    }
   },
   "id": "a603f956639a2628"
  },
  {
   "cell_type": "markdown",
   "source": [
    "For CIFAR-10:\n"
   ],
   "metadata": {
    "collapsed": false
   },
   "id": "77672e2c3020551d"
  },
  {
   "cell_type": "code",
   "execution_count": 4,
   "id": "initial_id",
   "metadata": {
    "collapsed": true,
    "ExecuteTime": {
     "end_time": "2023-12-29T12:06:51.007052700Z",
     "start_time": "2023-12-29T12:05:48.369826600Z"
    }
   },
   "outputs": [
    {
     "name": "stdout",
     "output_type": "stream",
     "text": [
      "Downloading https://www.cs.toronto.edu/~kriz/cifar-10-python.tar.gz to ./data\\cifar-10-python.tar.gz\n"
     ]
    },
    {
     "name": "stderr",
     "output_type": "stream",
     "text": [
      "100%|██████████| 170498071/170498071 [00:50<00:00, 3365940.64it/s]\n"
     ]
    },
    {
     "name": "stdout",
     "output_type": "stream",
     "text": [
      "Extracting ./data\\cifar-10-python.tar.gz to ./data\n",
      "Files already downloaded and verified\n"
     ]
    }
   ],
   "source": [
    "# Transformations for CIFAR-10\n",
    "transform_cifar = transforms.Compose([\n",
    "    transforms.ToTensor(),  # Convert images to PyTorch tensors\n",
    "    transforms.Normalize((0.5, 0.5, 0.5), (0.5, 0.5, 0.5))  # Normalize the data\n",
    "])\n",
    "\n",
    "# Load the CIFAR-10 dataset\n",
    "cifar_trainset = datasets.CIFAR10(root='./data', train=True, download=True, transform=transform_cifar)\n",
    "cifar_testset = datasets.CIFAR10(root='./data', train=False, download=True, transform=transform_cifar)\n"
   ]
  },
  {
   "cell_type": "markdown",
   "source": [
    "Paper results:"
   ],
   "metadata": {
    "collapsed": false
   },
   "id": "ba5ce8249d1c488c"
  },
  {
   "cell_type": "code",
   "execution_count": 11,
   "outputs": [
    {
     "name": "stdout",
     "output_type": "stream",
     "text": [
      "Results obtained in the paper:\n"
     ]
    },
    {
     "data": {
      "text/plain": "           Method   MNIST ACC   MNIST NMI   USPS ACC   USPS NMI  CIFAR-10 ACC  \\\n0         K-means        0.58        0.49       0.48       0.42          0.14   \n1    Deep Cluster        0.86        0.83       0.67       0.69            NA   \n2    Deep K-means        0.84        0.80       0.76       0.78            NA   \n3  CSC No Flatten        0.85        0.79       0.83       0.78          0.12   \n4   CSC No Filter        0.83        0.76       0.84       0.79          0.14   \n5   CSC No Voting        0.82        0.77       0.82       0.76          0.14   \n6             CSC        0.86        0.81       0.83       0.79          0.15   \n\n   CIFAR-10 NMI  \n0          0.12  \n1            NA  \n2            NA  \n3          0.08  \n4          0.10  \n5          0.10  \n6          0.11  ",
      "text/html": "<div>\n<style scoped>\n    .dataframe tbody tr th:only-of-type {\n        vertical-align: middle;\n    }\n\n    .dataframe tbody tr th {\n        vertical-align: top;\n    }\n\n    .dataframe thead th {\n        text-align: right;\n    }\n</style>\n<table border=\"1\" class=\"dataframe\">\n  <thead>\n    <tr style=\"text-align: right;\">\n      <th></th>\n      <th>Method</th>\n      <th>MNIST ACC</th>\n      <th>MNIST NMI</th>\n      <th>USPS ACC</th>\n      <th>USPS NMI</th>\n      <th>CIFAR-10 ACC</th>\n      <th>CIFAR-10 NMI</th>\n    </tr>\n  </thead>\n  <tbody>\n    <tr>\n      <th>0</th>\n      <td>K-means</td>\n      <td>0.58</td>\n      <td>0.49</td>\n      <td>0.48</td>\n      <td>0.42</td>\n      <td>0.14</td>\n      <td>0.12</td>\n    </tr>\n    <tr>\n      <th>1</th>\n      <td>Deep Cluster</td>\n      <td>0.86</td>\n      <td>0.83</td>\n      <td>0.67</td>\n      <td>0.69</td>\n      <td>NA</td>\n      <td>NA</td>\n    </tr>\n    <tr>\n      <th>2</th>\n      <td>Deep K-means</td>\n      <td>0.84</td>\n      <td>0.80</td>\n      <td>0.76</td>\n      <td>0.78</td>\n      <td>NA</td>\n      <td>NA</td>\n    </tr>\n    <tr>\n      <th>3</th>\n      <td>CSC No Flatten</td>\n      <td>0.85</td>\n      <td>0.79</td>\n      <td>0.83</td>\n      <td>0.78</td>\n      <td>0.12</td>\n      <td>0.08</td>\n    </tr>\n    <tr>\n      <th>4</th>\n      <td>CSC No Filter</td>\n      <td>0.83</td>\n      <td>0.76</td>\n      <td>0.84</td>\n      <td>0.79</td>\n      <td>0.14</td>\n      <td>0.10</td>\n    </tr>\n    <tr>\n      <th>5</th>\n      <td>CSC No Voting</td>\n      <td>0.82</td>\n      <td>0.77</td>\n      <td>0.82</td>\n      <td>0.76</td>\n      <td>0.14</td>\n      <td>0.10</td>\n    </tr>\n    <tr>\n      <th>6</th>\n      <td>CSC</td>\n      <td>0.86</td>\n      <td>0.81</td>\n      <td>0.83</td>\n      <td>0.79</td>\n      <td>0.15</td>\n      <td>0.11</td>\n    </tr>\n  </tbody>\n</table>\n</div>"
     },
     "execution_count": 11,
     "metadata": {},
     "output_type": "execute_result"
    }
   ],
   "source": [
    "file_path = 'paper_results.csv'\n",
    "\n",
    "# Read the CSV file into a Pandas DataFrame\n",
    "data = pd.read_csv(file_path)\n",
    "print(\"Results obtained in the paper:\")\n",
    "data"
   ],
   "metadata": {
    "collapsed": false,
    "ExecuteTime": {
     "end_time": "2023-12-29T12:13:18.735956400Z",
     "start_time": "2023-12-29T12:13:18.589907300Z"
    }
   },
   "id": "bea59dff45c49e93"
  },
  {
   "cell_type": "markdown",
   "source": [
    "2.***[Building the model]***:\n",
    "Autoencoder:"
   ],
   "metadata": {
    "collapsed": false
   },
   "id": "d72f7da262358c24"
  },
  {
   "cell_type": "code",
   "execution_count": 8,
   "outputs": [
    {
     "name": "stdout",
     "output_type": "stream",
     "text": [
      "Files already downloaded and verified\n",
      "Epoch [1/10], Loss: 0.0025\n",
      "Epoch [2/10], Loss: 0.0011\n",
      "Epoch [3/10], Loss: 0.0008\n",
      "Epoch [4/10], Loss: 0.0006\n",
      "Epoch [5/10], Loss: 0.0006\n",
      "Epoch [6/10], Loss: 0.0005\n",
      "Epoch [7/10], Loss: 0.0005\n",
      "Epoch [8/10], Loss: 0.0004\n",
      "Epoch [9/10], Loss: 0.0004\n",
      "Epoch [10/10], Loss: 0.0004\n"
     ]
    }
   ],
   "source": [
    "import torch\n",
    "import torch.nn as nn\n",
    "import torchvision\n",
    "from torchvision import transforms\n",
    "\n",
    "# Define the Convolutional Autoencoder model\n",
    "class ConvAutoencoder(nn.Module):\n",
    "    def __init__(self, input_channels):\n",
    "        super(ConvAutoencoder, self).__init__()\n",
    "        self.encoder = nn.Sequential(\n",
    "            nn.Conv2d(input_channels, 16, kernel_size=3, stride=2, padding=1),\n",
    "            nn.ReLU(),\n",
    "        )\n",
    "        self.decoder = nn.Sequential(\n",
    "            nn.ConvTranspose2d(16, input_channels, kernel_size=3, stride=2, padding=1, output_padding=1),\n",
    "            nn.Sigmoid(),\n",
    "        )\n",
    "\n",
    "    def forward(self, x):\n",
    "        x = self.encoder(x)\n",
    "        x = self.decoder(x)\n",
    "        return x\n",
    "\n",
    "# Define transformations and load datasets\n",
    "transform = transforms.Compose([\n",
    "    transforms.ToTensor(),\n",
    "])\n",
    "\n",
    "\n",
    "\n",
    "# Similarly, train the CIFAR-10 autoencoder\n"
   ],
   "metadata": {
    "collapsed": false,
    "ExecuteTime": {
     "end_time": "2023-12-29T12:12:04.833541500Z",
     "start_time": "2023-12-29T12:09:17.057583Z"
    }
   },
   "id": "974bbb9f6e96ade2"
  },
  {
   "cell_type": "markdown",
   "source": [],
   "metadata": {
    "collapsed": false
   },
   "id": "257e7f7005b5d1e1"
  },
  {
   "cell_type": "markdown",
   "source": [
    "# Load MNIST and CIFAR-10 datasets"
   ],
   "metadata": {
    "collapsed": false
   },
   "id": "970854c3293e651b"
  },
  {
   "cell_type": "code",
   "execution_count": null,
   "outputs": [],
   "source": [
    "mnist_trainset = torchvision.datasets.MNIST(root='./data', train=True, download=True, transform=transform)\n",
    "cifar_trainset = torchvision.datasets.CIFAR10(root='./data', train=True, download=True, transform=transform)"
   ],
   "metadata": {
    "collapsed": false,
    "ExecuteTime": {
     "start_time": "2023-12-29T12:06:52.179459Z"
    }
   },
   "id": "bddd43e6362d2fea"
  },
  {
   "cell_type": "markdown",
   "source": [],
   "metadata": {
    "collapsed": false
   },
   "id": "41654b4d48986f4d"
  },
  {
   "cell_type": "markdown",
   "source": [
    "# Set the data loader batch size"
   ],
   "metadata": {
    "collapsed": false
   },
   "id": "e02925bd0de927f9"
  },
  {
   "cell_type": "code",
   "execution_count": null,
   "outputs": [],
   "source": [
    "batch_size = 64\n",
    "mnist_train_loader = torch.utils.data.DataLoader(mnist_trainset, batch_size=batch_size, shuffle=True)\n",
    "cifar_train_loader = torch.utils.data.DataLoader(cifar_trainset, batch_size=batch_size, shuffle=True)\n"
   ],
   "metadata": {
    "collapsed": false,
    "ExecuteTime": {
     "start_time": "2023-12-29T12:06:52.184459400Z"
    }
   },
   "id": "5b946c4822ab6031"
  },
  {
   "cell_type": "markdown",
   "source": [
    "# Set the data loader batch size"
   ],
   "metadata": {
    "collapsed": false
   },
   "id": "5d21f69c4e4cdb31"
  },
  {
   "cell_type": "code",
   "execution_count": null,
   "outputs": [],
   "source": [
    "batch_size = 64\n",
    "mnist_train_loader = torch.utils.data.DataLoader(mnist_trainset, batch_size=batch_size, shuffle=True)\n",
    "cifar_train_loader = torch.utils.data.DataLoader(cifar_trainset, batch_size=batch_size, shuffle=True)"
   ],
   "metadata": {
    "collapsed": false,
    "ExecuteTime": {
     "start_time": "2023-12-29T12:06:52.189460600Z"
    }
   },
   "id": "4f846cfe0695ec22"
  },
  {
   "cell_type": "markdown",
   "source": [
    "# Initialize the autoencoder model"
   ],
   "metadata": {
    "collapsed": false
   },
   "id": "1ab00b407b361953"
  },
  {
   "cell_type": "code",
   "execution_count": null,
   "outputs": [],
   "source": [
    "input_channels_mnist = 1  # MNIST images are grayscale\n",
    "input_channels_cifar = 3  # CIFAR-10 images have 3 channels (RGB)\n",
    "\n",
    "mnist_autoencoder = ConvAutoencoder(input_channels_mnist)\n",
    "cifar_autoencoder = ConvAutoencoder(input_channels_cifar)"
   ],
   "metadata": {
    "collapsed": false
   },
   "id": "52ba1ebd157fcaf"
  },
  {
   "cell_type": "markdown",
   "source": [
    "# Loss function and optimizer"
   ],
   "metadata": {
    "collapsed": false
   },
   "id": "f95a19695728e4f4"
  },
  {
   "cell_type": "code",
   "execution_count": null,
   "outputs": [],
   "source": [
    "criterion = nn.MSELoss()\n",
    "optimizer_mnist = torch.optim.Adam(mnist_autoencoder.parameters(), lr=0.001)\n",
    "optimizer_cifar = torch.optim.Adam(cifar_autoencoder.parameters(), lr=0.001)"
   ],
   "metadata": {
    "collapsed": false
   },
   "id": "5b3f4ddf99678719"
  },
  {
   "cell_type": "markdown",
   "source": [
    "**[Training for MNIST]**:"
   ],
   "metadata": {
    "collapsed": false
   },
   "id": "f3b9829ec98afa6b"
  },
  {
   "cell_type": "code",
   "execution_count": null,
   "outputs": [],
   "source": [
    "for epoch in range(10):\n",
    "    for data in mnist_train_loader:\n",
    "        inputs, _ = data\n",
    "        optimizer_mnist.zero_grad()\n",
    "        outputs = mnist_autoencoder(inputs)\n",
    "        loss = criterion(outputs, inputs)\n",
    "        loss.backward()\n",
    "        optimizer_mnist.step()\n",
    "    print(f\"Epoch [{epoch+1}/{10}], Loss: {loss.item():.4f}\")"
   ],
   "metadata": {
    "collapsed": false
   },
   "id": "d4ab3d29a8966a69"
  },
  {
   "cell_type": "markdown",
   "source": [],
   "metadata": {
    "collapsed": false
   },
   "id": "19230400f385314e"
  }
 ],
 "metadata": {
  "kernelspec": {
   "display_name": "Python 3",
   "language": "python",
   "name": "python3"
  },
  "language_info": {
   "codemirror_mode": {
    "name": "ipython",
    "version": 2
   },
   "file_extension": ".py",
   "mimetype": "text/x-python",
   "name": "python",
   "nbconvert_exporter": "python",
   "pygments_lexer": "ipython2",
   "version": "2.7.6"
  }
 },
 "nbformat": 4,
 "nbformat_minor": 5
}
