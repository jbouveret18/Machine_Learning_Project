{
 "cells": [
  {
   "cell_type": "markdown",
   "source": [
    "Initial Imports:"
   ],
   "metadata": {
    "collapsed": false
   },
   "id": "de1db54c87ef1cd8"
  },
  {
   "cell_type": "code",
   "execution_count": 2,
   "outputs": [
    {
     "name": "stdout",
     "output_type": "stream",
     "text": [
      "Unexpected exception formatting exception. Falling back to standard exception\n"
     ]
    },
    {
     "name": "stderr",
     "output_type": "stream",
     "text": [
      "Traceback (most recent call last):\n",
      "  File \"C:\\Users\\jbouv\\AppData\\Local\\Programs\\Python\\Python310\\lib\\site-packages\\IPython\\core\\interactiveshell.py\", line 3526, in run_code\n",
      "    exec(code_obj, self.user_global_ns, self.user_ns)\n",
      "  File \"C:\\Users\\jbouv\\AppData\\Local\\Temp\\ipykernel_14284\\1424796351.py\", line 3, in <module>\n",
      "    from keras.datasets import mnist\n",
      "  File \"C:\\Users\\jbouv\\AppData\\Local\\Programs\\Python\\Python310\\lib\\site-packages\\keras\\__init__.py\", line 8, in <module>\n",
      "    from keras import _tf_keras\n",
      "  File \"C:\\Users\\jbouv\\AppData\\Local\\Programs\\Python\\Python310\\lib\\site-packages\\keras\\_tf_keras\\__init__.py\", line 1, in <module>\n",
      "    from keras._tf_keras import keras\n",
      "  File \"C:\\Users\\jbouv\\AppData\\Local\\Programs\\Python\\Python310\\lib\\site-packages\\keras\\_tf_keras\\keras\\__init__.py\", line 8, in <module>\n",
      "    from keras import activations\n",
      "  File \"C:\\Users\\jbouv\\AppData\\Local\\Programs\\Python\\Python310\\lib\\site-packages\\keras\\activations\\__init__.py\", line 8, in <module>\n",
      "    from keras.src.activations import deserialize\n",
      "  File \"C:\\Users\\jbouv\\AppData\\Local\\Programs\\Python\\Python310\\lib\\site-packages\\keras\\src\\__init__.py\", line 1, in <module>\n",
      "    from keras.src import activations\n",
      "  File \"C:\\Users\\jbouv\\AppData\\Local\\Programs\\Python\\Python310\\lib\\site-packages\\keras\\src\\activations\\__init__.py\", line 3, in <module>\n",
      "    from keras.src.activations.activations import elu\n",
      "  File \"C:\\Users\\jbouv\\AppData\\Local\\Programs\\Python\\Python310\\lib\\site-packages\\keras\\src\\activations\\activations.py\", line 1, in <module>\n",
      "    from keras.src import backend\n",
      "  File \"C:\\Users\\jbouv\\AppData\\Local\\Programs\\Python\\Python310\\lib\\site-packages\\keras\\src\\backend\\__init__.py\", line 10, in <module>\n",
      "    from keras.src.backend.common.keras_tensor import KerasTensor\n",
      "  File \"C:\\Users\\jbouv\\AppData\\Local\\Programs\\Python\\Python310\\lib\\site-packages\\keras\\src\\backend\\common\\keras_tensor.py\", line 1, in <module>\n",
      "    import tree\n",
      "  File \"C:\\Users\\jbouv\\AppData\\Local\\Programs\\Python\\Python310\\lib\\site-packages\\tree\\__init__.py\", line 23, in <module>\n",
      "  File \"C:\\Users\\jbouv\\AppData\\Local\\Programs\\Python\\Python310\\lib\\site-packages\\tree\\sequence.py\", line 19, in <module>\n",
      "ImportError: DLL load failed while importing _tree: %1 is not a valid Win32 application.\n",
      "\n",
      "During handling of the above exception, another exception occurred:\n",
      "\n",
      "Traceback (most recent call last):\n",
      "  File \"C:\\Users\\jbouv\\AppData\\Local\\Programs\\Python\\Python310\\lib\\site-packages\\IPython\\core\\interactiveshell.py\", line 2120, in showtraceback\n",
      "    stb = self.InteractiveTB.structured_traceback(\n",
      "  File \"C:\\Users\\jbouv\\AppData\\Local\\Programs\\Python\\Python310\\lib\\site-packages\\IPython\\core\\ultratb.py\", line 1435, in structured_traceback\n",
      "    return FormattedTB.structured_traceback(\n",
      "  File \"C:\\Users\\jbouv\\AppData\\Local\\Programs\\Python\\Python310\\lib\\site-packages\\IPython\\core\\ultratb.py\", line 1326, in structured_traceback\n",
      "    return VerboseTB.structured_traceback(\n",
      "  File \"C:\\Users\\jbouv\\AppData\\Local\\Programs\\Python\\Python310\\lib\\site-packages\\IPython\\core\\ultratb.py\", line 1173, in structured_traceback\n",
      "    formatted_exception = self.format_exception_as_a_whole(etype, evalue, etb, number_of_lines_of_context,\n",
      "  File \"C:\\Users\\jbouv\\AppData\\Local\\Programs\\Python\\Python310\\lib\\site-packages\\IPython\\core\\ultratb.py\", line 1088, in format_exception_as_a_whole\n",
      "    frames.append(self.format_record(record))\n",
      "  File \"C:\\Users\\jbouv\\AppData\\Local\\Programs\\Python\\Python310\\lib\\site-packages\\IPython\\core\\ultratb.py\", line 970, in format_record\n",
      "    frame_info.lines, Colors, self.has_colors, lvals\n",
      "  File \"C:\\Users\\jbouv\\AppData\\Local\\Programs\\Python\\Python310\\lib\\site-packages\\IPython\\core\\ultratb.py\", line 792, in lines\n",
      "    return self._sd.lines\n",
      "  File \"C:\\Users\\jbouv\\AppData\\Local\\Programs\\Python\\Python310\\lib\\site-packages\\stack_data\\utils.py\", line 145, in cached_property_wrapper\n",
      "    value = obj.__dict__[self.func.__name__] = self.func(obj)\n",
      "  File \"C:\\Users\\jbouv\\AppData\\Local\\Programs\\Python\\Python310\\lib\\site-packages\\stack_data\\core.py\", line 734, in lines\n",
      "    pieces = self.included_pieces\n",
      "  File \"C:\\Users\\jbouv\\AppData\\Local\\Programs\\Python\\Python310\\lib\\site-packages\\stack_data\\utils.py\", line 145, in cached_property_wrapper\n",
      "    value = obj.__dict__[self.func.__name__] = self.func(obj)\n",
      "  File \"C:\\Users\\jbouv\\AppData\\Local\\Programs\\Python\\Python310\\lib\\site-packages\\stack_data\\core.py\", line 681, in included_pieces\n",
      "    pos = scope_pieces.index(self.executing_piece)\n",
      "  File \"C:\\Users\\jbouv\\AppData\\Local\\Programs\\Python\\Python310\\lib\\site-packages\\stack_data\\utils.py\", line 145, in cached_property_wrapper\n",
      "    value = obj.__dict__[self.func.__name__] = self.func(obj)\n",
      "  File \"C:\\Users\\jbouv\\AppData\\Local\\Programs\\Python\\Python310\\lib\\site-packages\\stack_data\\core.py\", line 660, in executing_piece\n",
      "    return only(\n",
      "  File \"C:\\Users\\jbouv\\AppData\\Local\\Programs\\Python\\Python310\\lib\\site-packages\\executing\\executing.py\", line 116, in only\n",
      "    raise NotOneValueFound('Expected one value, found 0')\n",
      "executing.executing.NotOneValueFound: Expected one value, found 0\n"
     ]
    }
   ],
   "source": [
    "from sklearn.datasets import fetch_openml\n",
    "import pandas as pd\n",
    "from keras.datasets import mnist\n",
    "from keras.layers import Input, Dense\n",
    "from keras.models import Model\n",
    "from keras.datasets import cifar10\n",
    "from sklearn.model_selection import train_test_split"
   ],
   "metadata": {
    "collapsed": false,
    "ExecuteTime": {
     "end_time": "2023-12-29T11:44:35.481746200Z",
     "start_time": "2023-12-29T11:44:34.912653500Z"
    }
   },
   "id": "4ddc06e7fedf8ce9"
  },
  {
   "cell_type": "markdown",
   "source": [
    "1.***[Loading the data]***:\n",
    "For MNIST:\n",
    "In Python using TensorFlow and Keras:"
   ],
   "metadata": {
    "collapsed": false
   },
   "id": "e86669f7f9aa2933"
  },
  {
   "cell_type": "code",
   "execution_count": null,
   "outputs": [],
   "source": [
    "# Load MNIST dataset\n",
    "(train_images_mnist, train_labels_mnist), (test_images_mnist, test_labels_mnist) = mnist.load_data()\n",
    "mnist"
   ],
   "metadata": {
    "collapsed": false,
    "ExecuteTime": {
     "end_time": "2023-12-29T11:44:35.571364700Z",
     "start_time": "2023-12-29T11:44:35.490756400Z"
    }
   },
   "id": "a603f956639a2628"
  },
  {
   "cell_type": "markdown",
   "source": [
    "For USPS:"
   ],
   "metadata": {
    "collapsed": false
   },
   "id": "25e3f4347ab89845"
  },
  {
   "cell_type": "code",
   "execution_count": null,
   "outputs": [],
   "source": [
    "# Load USPS dataset (using sklearn)\n",
    "usps = fetch_openml(name='USPS', version=2)\n",
    "\n",
    "# Extract data and labels from USPS dataset\n",
    "usps_data = usps.data\n",
    "usps_target = usps.target.astype(int)\n",
    "# Split the USPS dataset into training and testing sets\n",
    "train_images_usps, test_images_usps, train_labels_usps, test_labels_usps = train_test_split(usps_data, usps_target, test_size=0.2, random_state=42)\n",
    "\n",
    "# Normalize the pixel values to be between 0 and 1\n",
    "train_images_usps = train_images_usps / 255.0\n",
    "test_images_usps = test_images_usps / 255.0\n",
    "usps"
   ],
   "metadata": {
    "collapsed": false,
    "ExecuteTime": {
     "start_time": "2023-12-29T11:44:35.500004500Z"
    }
   },
   "id": "e568090bc742bbf2"
  },
  {
   "cell_type": "markdown",
   "source": [
    "For CIFAR-10:\n",
    "In Python using TensorFlow and Keras:"
   ],
   "metadata": {
    "collapsed": false
   },
   "id": "77672e2c3020551d"
  },
  {
   "cell_type": "code",
   "execution_count": null,
   "id": "initial_id",
   "metadata": {
    "collapsed": true,
    "ExecuteTime": {
     "start_time": "2023-12-29T11:44:35.512494200Z"
    }
   },
   "outputs": [],
   "source": [
    "# Load CIFAR-10 dataset\n",
    "\n",
    "(train_images_cifar10, train_labels_cifar10), (test_images_cifar10, test_labels_cifar10) = cifar10.load_data()\n",
    "cifar10"
   ]
  },
  {
   "cell_type": "markdown",
   "source": [
    "Paper results:"
   ],
   "metadata": {
    "collapsed": false
   },
   "id": "ba5ce8249d1c488c"
  },
  {
   "cell_type": "code",
   "execution_count": null,
   "outputs": [],
   "source": [
    "file_path = 'paper_results.csv'\n",
    "\n",
    "# Read the CSV file into a Pandas DataFrame\n",
    "data = pd.read_csv(file_path)\n",
    "print(\"Results obtained in the paper:\")\n",
    "data"
   ],
   "metadata": {
    "collapsed": false,
    "ExecuteTime": {
     "start_time": "2023-12-29T11:44:35.522652200Z"
    }
   },
   "id": "bea59dff45c49e93"
  },
  {
   "cell_type": "markdown",
   "source": [
    "2.***[Building the model]***:\n",
    "Autoencoder:"
   ],
   "metadata": {
    "collapsed": false
   },
   "id": "d72f7da262358c24"
  },
  {
   "cell_type": "code",
   "execution_count": null,
   "outputs": [],
   "source": [
    "\n",
    "\n",
    "def buildAutoencoder(train_data, test_data, encoding_dim, number_of_hidden_layer, epochs, batch_size):\n",
    "    input_dim = train_data.shape[1]  # Input dimension based on the dataset\n",
    "\n",
    "    # Encoder\n",
    "    input_img = Input(shape=(input_dim,))\n",
    "    encoded = Dense(number_of_hidden_layer, activation='relu')(input_img)\n",
    "    encoded = Dense(encoding_dim, activation='relu')(encoded)\n",
    "\n",
    "    # Decoder\n",
    "    decoded = Dense(number_of_hidden_layer, activation='relu')(encoded)\n",
    "    decoded = Dense(input_dim, activation='sigmoid')(decoded)\n",
    "\n",
    "    # Combine encoder and decoder into an autoencoder model\n",
    "    autoencoder = Model(input_img, decoded)\n",
    "\n",
    "    # Compile the autoencoder\n",
    "    autoencoder.compile(optimizer='adam', loss='binary_crossentropy')\n",
    "\n",
    "    # Train the autoencoder using the provided data\n",
    "    autoencoder.fit(train_data, train_data,\n",
    "                    epochs=epochs,\n",
    "                    batch_size=batch_size,\n",
    "                    shuffle=True,\n",
    "                    validation_data=(test_data, test_data))\n",
    "\n",
    "    return autoencoder\n"
   ],
   "metadata": {
    "collapsed": false,
    "ExecuteTime": {
     "start_time": "2023-12-29T11:44:35.529276700Z"
    }
   },
   "id": "974bbb9f6e96ade2"
  },
  {
   "cell_type": "markdown",
   "source": [],
   "metadata": {
    "collapsed": false
   },
   "id": "257e7f7005b5d1e1"
  },
  {
   "cell_type": "code",
   "execution_count": null,
   "outputs": [],
   "source": [
    "# Build autoencoders for MNIST, USPS, and CIFAR-10 datasets\n",
    "autoencoder_mnist = buildAutoencoder(train_images_mnist, test_images_mnist, encoding_dim=32, number_of_hidden_layer=128, epochs=10, batch_size=256)\n",
    "\n",
    "autoencoder_usps = buildAutoencoder(train_images_usps, test_images_usps, encoding_dim=32, number_of_hidden_layer=64, epochs=10, batch_size=256)\n",
    "\n",
    "autoencoder_cifar10 = buildAutoencoder(train_images_cifar10, test_images_cifar10, encoding_dim=32, number_of_hidden_layer=512, epochs=10, batch_size=256)"
   ],
   "metadata": {
    "collapsed": false,
    "ExecuteTime": {
     "start_time": "2023-12-29T11:44:35.529276700Z"
    }
   },
   "id": "bddd43e6362d2fea"
  },
  {
   "cell_type": "markdown",
   "source": [
    "MNIST:"
   ],
   "metadata": {
    "collapsed": false
   },
   "id": "41654b4d48986f4d"
  },
  {
   "cell_type": "code",
   "execution_count": null,
   "outputs": [],
   "source": [
    "autoencoder_mnist"
   ],
   "metadata": {
    "collapsed": false,
    "ExecuteTime": {
     "start_time": "2023-12-29T11:44:35.546343600Z"
    }
   },
   "id": "5b946c4822ab6031"
  },
  {
   "cell_type": "markdown",
   "source": [
    "USPS:"
   ],
   "metadata": {
    "collapsed": false
   },
   "id": "3702c9aa84ae036c"
  },
  {
   "cell_type": "code",
   "execution_count": null,
   "outputs": [],
   "source": [
    "autoencoder_usps"
   ],
   "metadata": {
    "collapsed": false,
    "ExecuteTime": {
     "start_time": "2023-12-29T11:44:35.546343600Z"
    }
   },
   "id": "aad68dde2f4e714e"
  },
  {
   "cell_type": "markdown",
   "source": [
    "CIFAR10:"
   ],
   "metadata": {
    "collapsed": false
   },
   "id": "5d21f69c4e4cdb31"
  },
  {
   "cell_type": "code",
   "execution_count": null,
   "outputs": [],
   "source": [
    "autoencoder_cifar10"
   ],
   "metadata": {
    "collapsed": false,
    "ExecuteTime": {
     "start_time": "2023-12-29T11:44:35.555710Z"
    }
   },
   "id": "4f846cfe0695ec22"
  }
 ],
 "metadata": {
  "kernelspec": {
   "display_name": "Python 3",
   "language": "python",
   "name": "python3"
  },
  "language_info": {
   "codemirror_mode": {
    "name": "ipython",
    "version": 2
   },
   "file_extension": ".py",
   "mimetype": "text/x-python",
   "name": "python",
   "nbconvert_exporter": "python",
   "pygments_lexer": "ipython2",
   "version": "2.7.6"
  }
 },
 "nbformat": 4,
 "nbformat_minor": 5
}
